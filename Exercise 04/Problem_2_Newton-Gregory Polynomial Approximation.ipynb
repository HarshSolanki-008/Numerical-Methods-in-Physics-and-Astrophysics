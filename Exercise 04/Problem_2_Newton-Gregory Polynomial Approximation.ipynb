{
 "cells": [
  {
   "cell_type": "markdown",
   "id": "a21448e9",
   "metadata": {},
   "source": [
    "$$ 3.1 Problem II $$"
   ]
  },
  {
   "cell_type": "markdown",
   "id": "7ec9f998",
   "metadata": {},
   "source": [
    "#### In this question we are asked to approximate a polynomial for a given set of values of a function f(x) at four points x. We will use Newton-Gregory polynomial approximation scheme:"
   ]
  },
  {
   "cell_type": "code",
   "execution_count": 1,
   "id": "cf58220a",
   "metadata": {},
   "outputs": [],
   "source": [
    "import numpy as np\n",
    "from sympy import symbols, simplify"
   ]
  },
  {
   "cell_type": "markdown",
   "id": "2d327b35",
   "metadata": {},
   "source": [
    "#### First we create a list of all the values of x and the function f(x) given to us in the question. The step size h = x_i - x_{i-1} and as we know that x = x_0 + s*h, it gives the initial value s_0 which is used later to calculate the binomial for each term:"
   ]
  },
  {
   "cell_type": "code",
   "execution_count": 2,
   "id": "476ed264",
   "metadata": {},
   "outputs": [],
   "source": [
    "xvals=[4,6,8,10]\n",
    "fvals=[1,3,8,20]\n",
    "h=xvals[1]-xvals[0]\n",
    "x=symbols('x')\n",
    "s0=(x-xvals[0])/h"
   ]
  },
  {
   "cell_type": "markdown",
   "id": "b44237b4",
   "metadata": {},
   "source": [
    "#### Our finite differences are computed by creating a 4x4 array where the first elements are taken to be the values of f(x). Then a loop for the given number of entries, that is 4, is run for computing the finite differences. First the values of i are fixed which is the row in our array and the differences are calculated column-wise, i.e. j. "
   ]
  },
  {
   "cell_type": "code",
   "execution_count": 3,
   "id": "85a864bf",
   "metadata": {},
   "outputs": [],
   "source": [
    "df=np.zeros((4,4))\n",
    "df[:,0]=fvals\n",
    "for i in range (1,4):    \n",
    "    for j in range (4-i):\n",
    "        df[j][i]=df[j+1][i-1]-df[j][i-1]"
   ]
  },
  {
   "cell_type": "markdown",
   "id": "06a57f67",
   "metadata": {},
   "source": [
    "#### where df[j][i] computes the ith order difference at index j.\n",
    "\n",
    "#### And we define our polynomial P1 as a 2-dimensional array.:"
   ]
  },
  {
   "cell_type": "code",
   "execution_count": 4,
   "id": "f9018d7e",
   "metadata": {},
   "outputs": [],
   "source": [
    "P1=df[0,0]"
   ]
  },
  {
   "cell_type": "markdown",
   "id": "7051721f",
   "metadata": {},
   "source": [
    "#### Now we run a loop for computing the values of polynomial P1 by consequently multiplying the values of s with their respective values of finite differences:"
   ]
  },
  {
   "cell_type": "code",
   "execution_count": 5,
   "id": "897aea59",
   "metadata": {},
   "outputs": [
    {
     "name": "stdout",
     "output_type": "stream",
     "text": [
      "The polynomial P(x) before simplifying is: \n",
      " 1.0*x + 0.666666666666667*(x/2 - 4)*(x/2 - 3)*(x/2 - 2) + 1.5*(x/2 - 3)*(x/2 - 2) - 3.0\n",
      "After simplifying, it becomes: \n",
      " 0.0833333333333333*x**3 - 1.125*x**2 + 5.91666666666667*x - 10.0\n"
     ]
    }
   ],
   "source": [
    "s=1\n",
    "for i in range (1,4):\n",
    "    s*=(s0-(i-1))\n",
    "    P1+=(s*df[0,i])/np.math.factorial(i)\n",
    "\n",
    "print(\"The polynomial P(x) before simplifying is:\", \"\\n\", P1)\n",
    "\n",
    "P2=simplify(P1)\n",
    "print(\"After simplifying, it becomes:\", \"\\n\", P2)"
   ]
  },
  {
   "cell_type": "code",
   "execution_count": null,
   "id": "edf79210",
   "metadata": {
    "scrolled": true
   },
   "outputs": [],
   "source": []
  }
 ],
 "metadata": {
  "kernelspec": {
   "display_name": "Python 3 (ipykernel)",
   "language": "python",
   "name": "python3"
  },
  "language_info": {
   "codemirror_mode": {
    "name": "ipython",
    "version": 3
   },
   "file_extension": ".py",
   "mimetype": "text/x-python",
   "name": "python",
   "nbconvert_exporter": "python",
   "pygments_lexer": "ipython3",
   "version": "3.9.7"
  }
 },
 "nbformat": 4,
 "nbformat_minor": 5
}
