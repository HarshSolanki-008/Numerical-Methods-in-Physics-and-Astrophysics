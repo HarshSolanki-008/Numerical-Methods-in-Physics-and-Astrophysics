{
  "metadata": {
    "kernelspec": {
      "name": "python",
      "display_name": "Python (Pyodide)",
      "language": "python"
    },
    "language_info": {
      "codemirror_mode": {
        "name": "python",
        "version": 3
      },
      "file_extension": ".py",
      "mimetype": "text/x-python",
      "name": "python",
      "nbconvert_exporter": "python",
      "pygments_lexer": "ipython3",
      "version": "3.8"
    }
  },
  "nbformat_minor": 4,
  "nbformat": 4,
  "cells": [
    {
      "cell_type": "markdown",
      "source": "$Problem (\\mathrm{II})$\n\nWe need to integrate the function; \n$$f(x) = \\frac{2^x \\sin{x}}{x}$$",
      "metadata": {}
    },
    {
      "cell_type": "markdown",
      "source": "$i)$ Using Simpson's $\\frac{1}{3}^{rd}$ rule:\n\nThe Simpson's rule is given by;\n\n$\\int_{a}^{b} f(x) = \\frac{h}{3} (f_1 + 4f_2 + 2f_3 ... 2f_{n-2} + 4f_{n-1} + f_n)$\n\nin Python we can implement it in the following way;",
      "metadata": {}
    },
    {
      "cell_type": "code",
      "source": "import numpy as np\n\n#Defining the function\ndef f(x):\n    return (2**x)*np.sin(x)/x if x != 0 else 0\n\ndef simpson(x,a,b,h):\n    t1 = 0\n    \n    for i in range(len(x)):\n        if i == 0 or i == n-1: #necessary conditions for chosing the coefficients\n            t1 += f(x[i])\n        elif i % 2 == 0:\n            t1 += 2*f(x[i])\n        else:\n            t1 += 4*f(x[i])\n    \n    return (h/3)*(t1)\n",
      "metadata": {
        "trusted": true
      },
      "outputs": [],
      "execution_count": 1
    },
    {
      "cell_type": "markdown",
      "source": "Now, calculating this integral in the interval of $[1,10]$ for $n = 10000$ points, we get the following solution;",
      "metadata": {}
    },
    {
      "cell_type": "code",
      "source": "a = 1\nb = 10\nn = 10000\nh = (b - a)/n\nx = np.arange(a,b,h)\nsolution = simpson(x,a,b,h)\nprint(\"Solution using Simpson's 1/3rd Rule is: \", solution)",
      "metadata": {
        "trusted": true
      },
      "outputs": [
        {
          "name": "stdout",
          "text": "Solution using Simpson's 1/3rd Rule is:  40.290326561675435\n",
          "output_type": "stream"
        }
      ],
      "execution_count": 2
    },
    {
      "cell_type": "markdown",
      "source": "$ii)$ Using Romberg with Simpson's $\\frac{1}{3}^{rd}$ rule:",
      "metadata": {}
    },
    {
      "cell_type": "markdown",
      "source": "The Romberg integration method applies a certain boost to the output of any method, we can combine this method with the Simpson's $\\frac{1}{3}^{rd}$ method to boost the accuracy of it's output.\n\nThe boosted outcome $A$ is given by;\n\n$A = I_2 + \\frac{I_2 - I_1}{2^n -1}$\n\nfor error of order ${\\color{red}O(h^n)}$\n\nWhere, $I_{1}$ is the solution of the function using Simpson's $\\frac{1}{3}^{rd}$ method for $h$ while $I_{2}$ is the solution for $\\frac{h}{2}$\n\nThe python implementation is below;",
      "metadata": {}
    },
    {
      "cell_type": "code",
      "source": "a = 1\nb = 10\nm = 10000\nh = (b - a)/m\nx1 = np.arange(a,b,h)\nx2 = np.arange(a,b,h/2)\nI1 = simpson(x1,a,b,h) #uses the previously defines function for calculating solution using simpson's rule\nI2 = simpson(x2,a,b,h/2)\nn = 6 #order of error\n\nA = I2 + (I2 - I1)/(2**n - 1)\n\nprint(\"Solution by Combining Romberg and Simpson 1/3rd is: \",A)",
      "metadata": {
        "trusted": true
      },
      "outputs": [
        {
          "name": "stdout",
          "text": "Solution by Combining Romberg and Simpson 1/3rd is:  40.23105148155339\n",
          "output_type": "stream"
        }
      ],
      "execution_count": 5
    },
    {
      "cell_type": "markdown",
      "source": "$iii)$ Using Gauss-Legendre with 4-points:\n\nThe Gauss-Legendre quadrature is a numerical integration method that approximates the value of an integral by evaluating the function at specific points (called abscissas) and weighting them appropriately. It is highly accurate for polynomials and smooth functions.\n\nFor integral over $[-1,1]$, it can be written as;\n\n$\\int_{-1}^{1} f(x) dx = \\Sigma_{i = 1}^{n}A_i f_(x_i)$\n\nwhere, $x_i$ is abscissas and $A_i$ is weight\n\nFor $n = 4$ points, the abscissas and weights are given by;\n\n$x_i = (\\pm 0.8611363116, \\pm 0.3399810436)$\n\n$A_i = (0.3478548451, 0.6521451549)$\n\nThe implementation in Python is as follows;",
      "metadata": {}
    },
    {
      "cell_type": "code",
      "source": "a = 1\nb = 10\nxi = np.array([-0.8611363116, -0.3399810436, 0.3399810436, 0.8611363116])\nAi = np.array([0.3478548451, 0.6521451549, 0.6521451549, 0.3478548451])\n\ndef gauss_legendre(a, b):\n    mapped_points = (b - a) / 2 * xi + (b + a) / 2 #mapping points\n    scale = (b - a) / 2\n    return scale * sum(Ai[i] * f(mapped_points[i]) for i in range(4))\n\nsolution = gauss_legendre(a,b)\nprint('Solution using Gauss-Legendre with 4-points is: ',solution)",
      "metadata": {
        "trusted": true
      },
      "outputs": [
        {
          "name": "stdout",
          "text": "Solution using Gauss-Legendre with 4-points is:  36.98930901619824\n",
          "output_type": "stream"
        }
      ],
      "execution_count": 4
    }
  ]
}