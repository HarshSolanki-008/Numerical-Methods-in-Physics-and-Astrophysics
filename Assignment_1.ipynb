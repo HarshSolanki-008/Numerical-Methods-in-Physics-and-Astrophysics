{
  "metadata": {
    "kernelspec": {
      "name": "python",
      "display_name": "Python (Pyodide)",
      "language": "python"
    },
    "language_info": {
      "codemirror_mode": {
        "name": "python",
        "version": 3
      },
      "file_extension": ".py",
      "mimetype": "text/x-python",
      "name": "python",
      "nbconvert_exporter": "python",
      "pygments_lexer": "ipython3",
      "version": "3.8"
    }
  },
  "nbformat_minor": 5,
  "nbformat": 4,
  "cells": [
    {
      "id": "4d851da2-9791-48c7-844a-c32de4296841",
      "cell_type": "code",
      "source": "import numpy as np\n",
      "metadata": {
        "trusted": true
      },
      "outputs": [],
      "execution_count": 1
    },
    {
      "id": "0fc2d5db-e93e-441d-842f-daef4692a793",
      "cell_type": "code",
      "source": "x = 20",
      "metadata": {
        "trusted": true
      },
      "outputs": [],
      "execution_count": 2
    },
    {
      "id": "96cbeecf-a59b-4b55-8536-5e612e1935e3",
      "cell_type": "code",
      "source": "print(x)",
      "metadata": {
        "trusted": true
      },
      "outputs": [
        {
          "name": "stdout",
          "text": "20\n",
          "output_type": "stream"
        }
      ],
      "execution_count": 3
    },
    {
      "id": "d1b22b61-858b-456e-b826-eba649bf87c1",
      "cell_type": "markdown",
      "source": "The given function is $$f(x) = hc/\\lambda$$",
      "metadata": {}
    },
    {
      "id": "95ce32f8-6409-45e7-a32d-c44152e59fa7",
      "cell_type": "code",
      "source": "",
      "metadata": {
        "trusted": true
      },
      "outputs": [],
      "execution_count": null
    }
  ]
}